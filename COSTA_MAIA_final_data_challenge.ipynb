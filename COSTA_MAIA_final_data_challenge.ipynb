{
 "cells": [
  {
   "cell_type": "code",
   "execution_count": 2,
   "metadata": {},
   "outputs": [],
   "source": [
    "import pandas as pd\n",
    "import numpy as np\n",
    "import multiprocessing as mp\n",
    "\n",
    "# #1st dataset\n",
    "df_train_labels_1 = pd.read_csv(\"advanced-learning-models-2020/Ytr0.csv\")\n",
    "train_labels_1 = np.ravel(df_train_labels_1['Bound'].to_numpy())\n",
    "\n",
    "# file_train_feat_mat_1 = open(\"advanced-learning-models-2020/Xtr0_mat100.csv\")\n",
    "# train_feat_mat_1 = np.loadtxt(file_train_feat_mat_1, delimiter=\" \")\n",
    "\n",
    "# file_test_feat_mat_1 = open(\"advanced-learning-models-2020/Xte0_mat100.csv\")\n",
    "# test_feat_mat_1 = np.loadtxt(file_test_feat_mat_1, delimiter=\" \")\n",
    "\n",
    "# #2nd dataset \n",
    "df_train_labels_2 = pd.read_csv(\"advanced-learning-models-2020/Ytr1.csv\")\n",
    "train_labels_2 = np.ravel(df_train_labels_2['Bound'].to_numpy())\n",
    "\n",
    "# file_train_feat_mat_2 = open(\"advanced-learning-models-2020/Xtr1_mat100.csv\")\n",
    "# train_feat_mat_2 = np.loadtxt(file_train_feat_mat_2, delimiter=\" \")\n",
    "\n",
    "# file_test_feat_mat_2 = open(\"advanced-learning-models-2020/Xte1_mat100.csv\")\n",
    "# test_feat_mat_2 = np.loadtxt(file_test_feat_mat_2, delimiter=\" \")\n",
    "\n",
    "# #3rd dataset\n",
    "df_train_labels_3 = pd.read_csv(\"advanced-learning-models-2020/Ytr2.csv\")\n",
    "train_labels_3 = np.ravel(df_train_labels_3['Bound'].to_numpy())\n",
    "\n",
    "# file_train_feat_mat_3 = open(\"advanced-learning-models-2020/Xtr2_mat100.csv\")\n",
    "# train_feat_mat_3 = np.loadtxt(file_train_feat_mat_3, delimiter=\" \")\n",
    "\n",
    "# file_test_feat_mat_3 = open(\"advanced-learning-models-2020/Xte2_mat100.csv\")\n",
    "# test_feat_mat_3 = np.loadtxt(file_test_feat_mat_3, delimiter=\" \")\n",
    "\n",
    "\n",
    "##### RAW DATA\n",
    "\n",
    "#1st dataset\n",
    "Xtr0 = pd.read_csv(\"advanced-learning-models-2020/Xtr0.csv\")\n",
    "Xtr0=Xtr0['seq'].tolist()\n",
    "\n",
    "Xte0 = pd.read_csv(\"advanced-learning-models-2020/Xte0.csv\")\n",
    "Xte0=Xte0['seq'].tolist()\n",
    "\n",
    "#2nd dataset\n",
    "Xtr1 = pd.read_csv(\"advanced-learning-models-2020/Xtr1.csv\")\n",
    "Xtr1=Xtr1['seq'].tolist()\n",
    "\n",
    "Xte1 = pd.read_csv(\"advanced-learning-models-2020/Xte1.csv\")\n",
    "Xte1=Xte1['seq'].tolist()\n",
    "\n",
    "#3rd dataset\n",
    "Xtr2 = pd.read_csv(\"advanced-learning-models-2020/Xtr2.csv\")\n",
    "Xtr2=Xtr2['seq'].tolist()\n",
    "\n",
    "Xte2 = pd.read_csv(\"advanced-learning-models-2020/Xte2.csv\")\n",
    "Xte2=Xte2['seq'].tolist()\n"
   ]
  },
  {
   "cell_type": "code",
   "execution_count": 3,
   "metadata": {},
   "outputs": [],
   "source": [
    "def export_predict(pred_1,pred_2,pred_3,file_name):\n",
    "    df_final_results_ridge = pd.DataFrame({'Id':np.array(range(3000)),'Bound':np.concatenate([pred_1,pred_2,pred_3])})\n",
    "    df_final_results_ridge.to_csv(file_name,index=False)"
   ]
  },
  {
   "cell_type": "markdown",
   "metadata": {},
   "source": [
    "## Ridge Regression"
   ]
  },
  {
   "cell_type": "code",
   "execution_count": 13,
   "metadata": {},
   "outputs": [],
   "source": [
    "#rescaling\n",
    "def rescale_zero_minus_one(n):\n",
    "    if n==0:\n",
    "        return -1\n",
    "    return n\n",
    "\n",
    "def rescale_vector_zero_minus_one(y):\n",
    "    return np.array(list(map(rescale_zero_minus_one,train_labels_1)))\n",
    "\n",
    "def rescale_minus_one_zero(n):\n",
    "    if n==-1:\n",
    "        return 0\n",
    "    return n\n",
    "\n",
    "def rescale_vector_zero_minus_one(y):\n",
    "    return np.array(list(map(rescale_minus_one_zero,train_labels_1)))\n",
    "\n",
    "\n",
    "#Ridge without kernel\n",
    "def ridgeEstimators(train_fm,train_lm,lam):\n",
    "    a = np.matmul(train_fm.T,train_fm)\n",
    "    b = lam*np.identity(len(train_fm[0]))\n",
    "    c = np.linalg.inv(a+b)\n",
    "    d = np.matmul(train_fm.T,train_lm)\n",
    "    return np.matmul(c,d)\n",
    "\n",
    "def round_zero_one(pred_val):\n",
    "    if pred_val<0:\n",
    "        return 0\n",
    "    if pred_val>1:\n",
    "        return 1\n",
    "    return (round(pred_val))\n",
    "\n",
    "def predictRidge(X,estimators):\n",
    "    result = map(round_zero_one, np.matmul(X,estimators)) \n",
    "    return np.array(list(result)) \n",
    "\n",
    "#ridge predictions:\n",
    "# estimators_1 = ridgeEstimators(train_feat_mat_1,train_labels_1,0.001)\n",
    "# predictionsRidge_1 = predictRidge(test_feat_mat_1,estimators_1)\n",
    "\n",
    "# estimators_2 = ridgeEstimators(train_feat_mat_2,train_labels_2,0.001)\n",
    "# predictionsRidge_2 = predictRidge(test_feat_mat_2,estimators_2)\n",
    "\n",
    "# estimators_3 = ridgeEstimators(train_feat_mat_3,train_labels_3,0.001)\n",
    "# predictionsRidge_3 = predictRidge(test_feat_mat_3,estimators_3)"
   ]
  },
  {
   "cell_type": "markdown",
   "metadata": {},
   "source": [
    "## KERNEL Ridge Regression"
   ]
  },
  {
   "cell_type": "code",
   "execution_count": 12,
   "metadata": {},
   "outputs": [],
   "source": [
    "################################### KERNELS ###################################\n",
    "\n",
    "###GAUSSIAN KERNEL\n",
    "def gaussian_kernel(x,y):\n",
    "    sig = 5\n",
    "    diff = x-y \n",
    "    return np.exp(-np.dot(diff,diff)/2*sig*sig)\n",
    "\n",
    "###SPECTRUM KERNEL\n",
    "def spectrum_kernel(x1,x2,k=6):\n",
    "    dic1=dict()\n",
    "    dic2=dict()\n",
    "    for i in range(len(x1)-k+1):\n",
    "        k_mer_1 = x1[i:k+i]\n",
    "        if k_mer_1 not in dic1:\n",
    "            dic1[k_mer_1]=1\n",
    "        else:\n",
    "            dic1[k_mer_1]+=1\n",
    "        k_mer_2 = x2[i:k+i]\n",
    "        if k_mer_2 not in dic2:\n",
    "            dic2[k_mer_2]=1\n",
    "        else:\n",
    "            dic2[k_mer_2]+=1\n",
    "    common=0\n",
    "    for j in dic1:\n",
    "        if j in dic2:\n",
    "            common+=dic1[j]*dic2[j]\n",
    "    return common\n",
    "\n",
    "###MISMATCH KERNEL\n",
    "def count_equal(x1,x2):\n",
    "    count = 0\n",
    "    for i in range(len(x1)):\n",
    "        if x1[i]==x2[i]:\n",
    "            count+=1\n",
    "    return count\n",
    "\n",
    "def mismatch_kernel(x1,x2):\n",
    "    k=8\n",
    "    num_mis=2\n",
    "    count_common_k_mer = 0\n",
    "    for i in range(len(x1)-k+1):\n",
    "        k_mer_1 = x1[i:k+i]\n",
    "        for j in range(len(x2)-k+1):\n",
    "            k_mer_2 = x2[j:k+j]\n",
    "            if k_mer_1==k_mer_2:\n",
    "                count_common_k_mer+=1\n",
    "            else:\n",
    "                count_comm_seq_mon = count_equal(k_mer_1,k_mer_2) #number of common monomers taking the seq into account\n",
    "                if (count_comm_seq_mon >=k-num_mis):\n",
    "                    count_common_k_mer+= np.exp(count_comm_seq_mon/k -1)*(count_comm_seq_mon/k)*(count_comm_seq_mon/k)\n",
    "    return count_common_k_mer\n",
    "    \n",
    "############################### K MATRICES ####################################\n",
    "\n",
    "\n",
    "### not symmetric K matrix -> test time\n",
    "def compute_gram_matrix(kernel,X1,X2):\n",
    "    N1=len(X1)\n",
    "    N2=len(X2)\n",
    "    gram_matrix = np.zeros(shape=(N1,N2))\n",
    "    for i in range(N1):\n",
    "        for j in range(N2):\n",
    "            gram_matrix[i][j]=kernel(X1[i],X2[j])\n",
    "    return gram_matrix\n",
    "\n",
    "### not symmetric K matrix -> test time: parallel computing version \n",
    "def compute_gram_matrix_parallel(kernel,X1,X2):\n",
    "    N1=len(X1)\n",
    "    N2=len(X2)\n",
    "    gram_matrix = np.zeros(shape=(N1,N2))\n",
    "    for i in range(N1):\n",
    "        #paralellize \n",
    "        pool = mp.Pool(mp.cpu_count())\n",
    "        results = [pool.apply(kernel, args=(X1[i],xj)) for xj in X2]\n",
    "        pool.close()   \n",
    "        gram_matrix[i]=results\n",
    "    return gram_matrix\n",
    "\n",
    "\n",
    "### symmetric K matrix -> train time: parallel computing version\n",
    "def compute_gram_matrix_train(kernel,X):\n",
    "    N=len(X)\n",
    "    gram_matrix = np.zeros(shape=(N,N))\n",
    "    for i in range(0,N):\n",
    "        #paralellize \n",
    "        pool = mp.Pool(mp.cpu_count())\n",
    "        results = [pool.apply(kernel, args=(X[i],xj)) for xj in X[i:N]]\n",
    "        pool.close()    \n",
    "        for j in range(i,N):\n",
    "            gram_matrix[i][j]=gram_matrix[j][i]=results[j-i] \n",
    "    return gram_matrix\n",
    "\n",
    "\n",
    "\n",
    "\n",
    "################################################ KRR #################################\n",
    "\n",
    "def kernelRidgeEstimators(gram_matrix,train_lm,lam):\n",
    "    N=len(gram_matrix)\n",
    "    a = lam*N*np.identity(N)\n",
    "    b = np.linalg.inv(gram_matrix+a)\n",
    "    return np.matmul(b,train_lm)\n"
   ]
  },
  {
   "cell_type": "code",
   "execution_count": 7,
   "metadata": {},
   "outputs": [],
   "source": [
    "def spectrum_combination(x1,x2,k_list):\n",
    "    return np.sum((1/len(k_list))*np.array([spectrum_kernel(x1,x2,k) for k in k_list]))\n",
    "\n",
    "def wrap_kernel_0(x1,x2):\n",
    "    return spectrum_combination(x1,x2,[3,5,6,10]) \n",
    "\n",
    "def wrap_kernel_1(x1,x2):\n",
    "    return spectrum_combination(x1,x2,[4,6,10])\n",
    "\n",
    "def wrap_kernel_2(x1,x2):\n",
    "    return spectrum_combination(x1,x2,[2,6,15])"
   ]
  },
  {
   "cell_type": "code",
   "execution_count": 8,
   "metadata": {},
   "outputs": [],
   "source": [
    "def split(X,Y):\n",
    "    return X[:1500],Y[:1500],X[1500:],Y[1500:]\n",
    "\n",
    "def evaluate(Y_label,Y_pred):\n",
    "    return np.sum(Y_label==Y_pred)/len(Y_label)"
   ]
  },
  {
   "cell_type": "code",
   "execution_count": 9,
   "metadata": {},
   "outputs": [],
   "source": [
    "#using parallelized versions\n",
    "def fit_KRR(X_train,y_train,kernel,lam): #return KRR estimators to be used in predict_KRR\n",
    "    train_gram = compute_gram_matrix_train(kernel,X_train)\n",
    "    return train_gram,kernelRidgeEstimators(train_gram,y_train,lam)\n",
    "\n",
    "def predict_KRR(X_train,X_test,kernel,estimators):\n",
    "    test_K_mat = compute_gram_matrix_parallel(kernel,X_test,X_train) #analog to gram matrix but not symmetric\n",
    "    return test_K_mat,predictRidge(test_K_mat,estimators)"
   ]
  },
  {
   "cell_type": "code",
   "execution_count": 11,
   "metadata": {},
   "outputs": [],
   "source": [
    "lam_0=0.1\n",
    "lam_1=0.15\n",
    "lam_2=0.02"
   ]
  },
  {
   "cell_type": "code",
   "execution_count": null,
   "metadata": {},
   "outputs": [],
   "source": [
    "#final predictions\n",
    "le_train_gram_0,le_estim_0=fit_KRR(Xtr0,train_labels_1,wrap_kernel_0,lam_0)\n",
    "le_test_gram_0,le_predic_0=predict_KRR(Xtr0,Xte0,wrap_kernel_0,le_estim_0)\n",
    "\n",
    "le_train_gram_1,le_estim_1=fit_KRR(Xtr1,train_labels_2,wrap_kernel_1,lam_1)\n",
    "le_test_gram_1,le_predic_1=predict_KRR(Xtr1,Xte1,wrap_kernel_1,le_estim_1)\n",
    "\n",
    "le_train_gram_2,le_estim_2=fit_KRR(Xtr2,train_labels_3,wrap_kernel_2,lam_2)\n",
    "le_test_gram_2,le_predic_2=predict_KRR(Xtr2,Xte2,wrap_kernel_2,le_estim_2)"
   ]
  },
  {
   "cell_type": "code",
   "execution_count": null,
   "metadata": {},
   "outputs": [],
   "source": [
    "export_predict(le_predic_0,le_predic_1,le_predic_2,'sev_linear_comb_spect_kernel_sev_lam.csv')"
   ]
  },
  {
   "cell_type": "markdown",
   "metadata": {},
   "source": [
    "#### assessing accuracy for some hyperparameter values"
   ]
  },
  {
   "cell_type": "code",
   "execution_count": null,
   "metadata": {},
   "outputs": [],
   "source": [
    "#splits to assess value of hyperparameters\n",
    "X_tr_0,Y_tr_0,X_ts_0,Y_ts_0 = split(Xtr0,train_labels_1)\n",
    "X_tr_1,Y_tr_1,X_ts_1,Y_ts_1 = split(Xtr1,train_labels_2)\n",
    "X_tr_2,Y_tr_2,X_ts_2,Y_ts_2 = split(Xtr2,train_labels_3)"
   ]
  },
  {
   "cell_type": "code",
   "execution_count": 27,
   "metadata": {},
   "outputs": [],
   "source": [
    "train_gram,estim_0=fit_KRR(X_tr_0,Y_tr_0,wrap_kernel_0,lam_0)"
   ]
  },
  {
   "cell_type": "code",
   "execution_count": 29,
   "metadata": {},
   "outputs": [],
   "source": [
    "test_gram,predic_0=predict_KRR(X_tr_0,X_ts_0,wrap_kernel_0,estim_0)"
   ]
  },
  {
   "cell_type": "code",
   "execution_count": null,
   "metadata": {},
   "outputs": [],
   "source": [
    "evaluate(Y_ts_0,predic_0)"
   ]
  },
  {
   "cell_type": "code",
   "execution_count": 88,
   "metadata": {},
   "outputs": [
    {
     "name": "stderr",
     "output_type": "stream",
     "text": [
      "Process ForkPoolWorker-41492:\n",
      "Process ForkPoolWorker-41491:\n",
      "Process ForkPoolWorker-41489:\n",
      "Process ForkPoolWorker-41490:\n",
      "Traceback (most recent call last):\n",
      "Traceback (most recent call last):\n",
      "  File \"/opt/conda/lib/python3.7/multiprocessing/process.py\", line 297, in _bootstrap\n",
      "    self.run()\n",
      "Traceback (most recent call last):\n",
      "Traceback (most recent call last):\n",
      "  File \"/opt/conda/lib/python3.7/multiprocessing/process.py\", line 99, in run\n",
      "    self._target(*self._args, **self._kwargs)\n",
      "  File \"/opt/conda/lib/python3.7/multiprocessing/process.py\", line 297, in _bootstrap\n",
      "    self.run()\n",
      "  File \"/opt/conda/lib/python3.7/multiprocessing/process.py\", line 297, in _bootstrap\n",
      "    self.run()\n",
      "  File \"/opt/conda/lib/python3.7/multiprocessing/pool.py\", line 121, in worker\n",
      "    result = (True, func(*args, **kwds))\n",
      "  File \"/opt/conda/lib/python3.7/multiprocessing/process.py\", line 99, in run\n",
      "    self._target(*self._args, **self._kwargs)\n",
      "  File \"/opt/conda/lib/python3.7/multiprocessing/process.py\", line 297, in _bootstrap\n",
      "    self.run()\n",
      "  File \"/opt/conda/lib/python3.7/multiprocessing/pool.py\", line 110, in worker\n",
      "    task = get()\n",
      "  File \"/opt/conda/lib/python3.7/multiprocessing/process.py\", line 99, in run\n",
      "    self._target(*self._args, **self._kwargs)\n"
     ]
    },
    {
     "ename": "KeyboardInterrupt",
     "evalue": "",
     "output_type": "error",
     "traceback": [
      "\u001b[0;31m---------------------------------------------------------------------------\u001b[0m",
      "\u001b[0;31mKeyboardInterrupt\u001b[0m                         Traceback (most recent call last)",
      "\u001b[0;32m<ipython-input-88-cdebc2852731>\u001b[0m in \u001b[0;36m<module>\u001b[0;34m\u001b[0m\n\u001b[0;32m----> 1\u001b[0;31m \u001b[0mtrain_gram_1\u001b[0m\u001b[0;34m,\u001b[0m\u001b[0mestim_1\u001b[0m\u001b[0;34m=\u001b[0m\u001b[0mfit_KRR\u001b[0m\u001b[0;34m(\u001b[0m\u001b[0mX_tr_1\u001b[0m\u001b[0;34m,\u001b[0m\u001b[0mY_tr_1\u001b[0m\u001b[0;34m,\u001b[0m\u001b[0mwrap_kernel_1\u001b[0m\u001b[0;34m,\u001b[0m\u001b[0mlam_1\u001b[0m\u001b[0;34m)\u001b[0m\u001b[0;34m\u001b[0m\u001b[0;34m\u001b[0m\u001b[0m\n\u001b[0m",
      "\u001b[0;32m<ipython-input-26-b0372a019f39>\u001b[0m in \u001b[0;36mfit_KRR\u001b[0;34m(X_train, y_train, kernel, lam)\u001b[0m\n\u001b[1;32m      1\u001b[0m \u001b[0;31m#using parallelized versions\u001b[0m\u001b[0;34m\u001b[0m\u001b[0;34m\u001b[0m\u001b[0;34m\u001b[0m\u001b[0m\n\u001b[1;32m      2\u001b[0m \u001b[0;32mdef\u001b[0m \u001b[0mfit_KRR\u001b[0m\u001b[0;34m(\u001b[0m\u001b[0mX_train\u001b[0m\u001b[0;34m,\u001b[0m\u001b[0my_train\u001b[0m\u001b[0;34m,\u001b[0m\u001b[0mkernel\u001b[0m\u001b[0;34m,\u001b[0m\u001b[0mlam\u001b[0m\u001b[0;34m)\u001b[0m\u001b[0;34m:\u001b[0m \u001b[0;31m#return KRR estimators to be used in predict_KRR\u001b[0m\u001b[0;34m\u001b[0m\u001b[0;34m\u001b[0m\u001b[0m\n\u001b[0;32m----> 3\u001b[0;31m     \u001b[0mtrain_gram\u001b[0m \u001b[0;34m=\u001b[0m \u001b[0mcompute_gram_matrix_train\u001b[0m\u001b[0;34m(\u001b[0m\u001b[0mkernel\u001b[0m\u001b[0;34m,\u001b[0m\u001b[0mX_train\u001b[0m\u001b[0;34m)\u001b[0m\u001b[0;34m\u001b[0m\u001b[0;34m\u001b[0m\u001b[0m\n\u001b[0m\u001b[1;32m      4\u001b[0m     \u001b[0;32mreturn\u001b[0m \u001b[0mtrain_gram\u001b[0m\u001b[0;34m,\u001b[0m\u001b[0mkernelRidgeEstimators\u001b[0m\u001b[0;34m(\u001b[0m\u001b[0mtrain_gram\u001b[0m\u001b[0;34m,\u001b[0m\u001b[0my_train\u001b[0m\u001b[0;34m,\u001b[0m\u001b[0mlam\u001b[0m\u001b[0;34m)\u001b[0m\u001b[0;34m\u001b[0m\u001b[0;34m\u001b[0m\u001b[0m\n\u001b[1;32m      5\u001b[0m \u001b[0;34m\u001b[0m\u001b[0m\n",
      "\u001b[0;32m<ipython-input-21-8b52f4b3dad5>\u001b[0m in \u001b[0;36mcompute_gram_matrix_train\u001b[0;34m(kernel, X)\u001b[0m\n\u001b[1;32m     89\u001b[0m         \u001b[0;31m#paralellize\u001b[0m\u001b[0;34m\u001b[0m\u001b[0;34m\u001b[0m\u001b[0;34m\u001b[0m\u001b[0m\n\u001b[1;32m     90\u001b[0m         \u001b[0mpool\u001b[0m \u001b[0;34m=\u001b[0m \u001b[0mmp\u001b[0m\u001b[0;34m.\u001b[0m\u001b[0mPool\u001b[0m\u001b[0;34m(\u001b[0m\u001b[0mmp\u001b[0m\u001b[0;34m.\u001b[0m\u001b[0mcpu_count\u001b[0m\u001b[0;34m(\u001b[0m\u001b[0;34m)\u001b[0m\u001b[0;34m)\u001b[0m\u001b[0;34m\u001b[0m\u001b[0;34m\u001b[0m\u001b[0m\n\u001b[0;32m---> 91\u001b[0;31m         \u001b[0mresults\u001b[0m \u001b[0;34m=\u001b[0m \u001b[0;34m[\u001b[0m\u001b[0mpool\u001b[0m\u001b[0;34m.\u001b[0m\u001b[0mapply\u001b[0m\u001b[0;34m(\u001b[0m\u001b[0mkernel\u001b[0m\u001b[0;34m,\u001b[0m \u001b[0margs\u001b[0m\u001b[0;34m=\u001b[0m\u001b[0;34m(\u001b[0m\u001b[0mX\u001b[0m\u001b[0;34m[\u001b[0m\u001b[0mi\u001b[0m\u001b[0;34m]\u001b[0m\u001b[0;34m,\u001b[0m\u001b[0mxj\u001b[0m\u001b[0;34m)\u001b[0m\u001b[0;34m)\u001b[0m \u001b[0;32mfor\u001b[0m \u001b[0mxj\u001b[0m \u001b[0;32min\u001b[0m \u001b[0mX\u001b[0m\u001b[0;34m[\u001b[0m\u001b[0mi\u001b[0m\u001b[0;34m:\u001b[0m\u001b[0mN\u001b[0m\u001b[0;34m]\u001b[0m\u001b[0;34m]\u001b[0m\u001b[0;34m\u001b[0m\u001b[0;34m\u001b[0m\u001b[0m\n\u001b[0m\u001b[1;32m     92\u001b[0m         \u001b[0mpool\u001b[0m\u001b[0;34m.\u001b[0m\u001b[0mclose\u001b[0m\u001b[0;34m(\u001b[0m\u001b[0;34m)\u001b[0m\u001b[0;34m\u001b[0m\u001b[0;34m\u001b[0m\u001b[0m\n\u001b[1;32m     93\u001b[0m         \u001b[0;32mfor\u001b[0m \u001b[0mj\u001b[0m \u001b[0;32min\u001b[0m \u001b[0mrange\u001b[0m\u001b[0;34m(\u001b[0m\u001b[0mi\u001b[0m\u001b[0;34m,\u001b[0m\u001b[0mN\u001b[0m\u001b[0;34m)\u001b[0m\u001b[0;34m:\u001b[0m\u001b[0;34m\u001b[0m\u001b[0;34m\u001b[0m\u001b[0m\n",
      "\u001b[0;32m<ipython-input-21-8b52f4b3dad5>\u001b[0m in \u001b[0;36m<listcomp>\u001b[0;34m(.0)\u001b[0m\n\u001b[1;32m     89\u001b[0m         \u001b[0;31m#paralellize\u001b[0m\u001b[0;34m\u001b[0m\u001b[0;34m\u001b[0m\u001b[0;34m\u001b[0m\u001b[0m\n\u001b[1;32m     90\u001b[0m         \u001b[0mpool\u001b[0m \u001b[0;34m=\u001b[0m \u001b[0mmp\u001b[0m\u001b[0;34m.\u001b[0m\u001b[0mPool\u001b[0m\u001b[0;34m(\u001b[0m\u001b[0mmp\u001b[0m\u001b[0;34m.\u001b[0m\u001b[0mcpu_count\u001b[0m\u001b[0;34m(\u001b[0m\u001b[0;34m)\u001b[0m\u001b[0;34m)\u001b[0m\u001b[0;34m\u001b[0m\u001b[0;34m\u001b[0m\u001b[0m\n\u001b[0;32m---> 91\u001b[0;31m         \u001b[0mresults\u001b[0m \u001b[0;34m=\u001b[0m \u001b[0;34m[\u001b[0m\u001b[0mpool\u001b[0m\u001b[0;34m.\u001b[0m\u001b[0mapply\u001b[0m\u001b[0;34m(\u001b[0m\u001b[0mkernel\u001b[0m\u001b[0;34m,\u001b[0m \u001b[0margs\u001b[0m\u001b[0;34m=\u001b[0m\u001b[0;34m(\u001b[0m\u001b[0mX\u001b[0m\u001b[0;34m[\u001b[0m\u001b[0mi\u001b[0m\u001b[0;34m]\u001b[0m\u001b[0;34m,\u001b[0m\u001b[0mxj\u001b[0m\u001b[0;34m)\u001b[0m\u001b[0;34m)\u001b[0m \u001b[0;32mfor\u001b[0m \u001b[0mxj\u001b[0m \u001b[0;32min\u001b[0m \u001b[0mX\u001b[0m\u001b[0;34m[\u001b[0m\u001b[0mi\u001b[0m\u001b[0;34m:\u001b[0m\u001b[0mN\u001b[0m\u001b[0;34m]\u001b[0m\u001b[0;34m]\u001b[0m\u001b[0;34m\u001b[0m\u001b[0;34m\u001b[0m\u001b[0m\n\u001b[0m\u001b[1;32m     92\u001b[0m         \u001b[0mpool\u001b[0m\u001b[0;34m.\u001b[0m\u001b[0mclose\u001b[0m\u001b[0;34m(\u001b[0m\u001b[0;34m)\u001b[0m\u001b[0;34m\u001b[0m\u001b[0;34m\u001b[0m\u001b[0m\n\u001b[1;32m     93\u001b[0m         \u001b[0;32mfor\u001b[0m \u001b[0mj\u001b[0m \u001b[0;32min\u001b[0m \u001b[0mrange\u001b[0m\u001b[0;34m(\u001b[0m\u001b[0mi\u001b[0m\u001b[0;34m,\u001b[0m\u001b[0mN\u001b[0m\u001b[0;34m)\u001b[0m\u001b[0;34m:\u001b[0m\u001b[0;34m\u001b[0m\u001b[0;34m\u001b[0m\u001b[0m\n",
      "\u001b[0;32m/opt/conda/lib/python3.7/multiprocessing/pool.py\u001b[0m in \u001b[0;36mapply\u001b[0;34m(self, func, args, kwds)\u001b[0m\n\u001b[1;32m    259\u001b[0m         \u001b[0mPool\u001b[0m \u001b[0mmust\u001b[0m \u001b[0mbe\u001b[0m \u001b[0mrunning\u001b[0m\u001b[0;34m.\u001b[0m\u001b[0;34m\u001b[0m\u001b[0;34m\u001b[0m\u001b[0m\n\u001b[1;32m    260\u001b[0m         '''\n\u001b[0;32m--> 261\u001b[0;31m         \u001b[0;32mreturn\u001b[0m \u001b[0mself\u001b[0m\u001b[0;34m.\u001b[0m\u001b[0mapply_async\u001b[0m\u001b[0;34m(\u001b[0m\u001b[0mfunc\u001b[0m\u001b[0;34m,\u001b[0m \u001b[0margs\u001b[0m\u001b[0;34m,\u001b[0m \u001b[0mkwds\u001b[0m\u001b[0;34m)\u001b[0m\u001b[0;34m.\u001b[0m\u001b[0mget\u001b[0m\u001b[0;34m(\u001b[0m\u001b[0;34m)\u001b[0m\u001b[0;34m\u001b[0m\u001b[0;34m\u001b[0m\u001b[0m\n\u001b[0m\u001b[1;32m    262\u001b[0m \u001b[0;34m\u001b[0m\u001b[0m\n\u001b[1;32m    263\u001b[0m     \u001b[0;32mdef\u001b[0m \u001b[0mmap\u001b[0m\u001b[0;34m(\u001b[0m\u001b[0mself\u001b[0m\u001b[0;34m,\u001b[0m \u001b[0mfunc\u001b[0m\u001b[0;34m,\u001b[0m \u001b[0miterable\u001b[0m\u001b[0;34m,\u001b[0m \u001b[0mchunksize\u001b[0m\u001b[0;34m=\u001b[0m\u001b[0;32mNone\u001b[0m\u001b[0;34m)\u001b[0m\u001b[0;34m:\u001b[0m\u001b[0;34m\u001b[0m\u001b[0;34m\u001b[0m\u001b[0m\n",
      "\u001b[0;32m/opt/conda/lib/python3.7/multiprocessing/pool.py\u001b[0m in \u001b[0;36mget\u001b[0;34m(self, timeout)\u001b[0m\n\u001b[1;32m    649\u001b[0m \u001b[0;34m\u001b[0m\u001b[0m\n\u001b[1;32m    650\u001b[0m     \u001b[0;32mdef\u001b[0m \u001b[0mget\u001b[0m\u001b[0;34m(\u001b[0m\u001b[0mself\u001b[0m\u001b[0;34m,\u001b[0m \u001b[0mtimeout\u001b[0m\u001b[0;34m=\u001b[0m\u001b[0;32mNone\u001b[0m\u001b[0;34m)\u001b[0m\u001b[0;34m:\u001b[0m\u001b[0;34m\u001b[0m\u001b[0;34m\u001b[0m\u001b[0m\n\u001b[0;32m--> 651\u001b[0;31m         \u001b[0mself\u001b[0m\u001b[0;34m.\u001b[0m\u001b[0mwait\u001b[0m\u001b[0;34m(\u001b[0m\u001b[0mtimeout\u001b[0m\u001b[0;34m)\u001b[0m\u001b[0;34m\u001b[0m\u001b[0;34m\u001b[0m\u001b[0m\n\u001b[0m\u001b[1;32m    652\u001b[0m         \u001b[0;32mif\u001b[0m \u001b[0;32mnot\u001b[0m \u001b[0mself\u001b[0m\u001b[0;34m.\u001b[0m\u001b[0mready\u001b[0m\u001b[0;34m(\u001b[0m\u001b[0;34m)\u001b[0m\u001b[0;34m:\u001b[0m\u001b[0;34m\u001b[0m\u001b[0;34m\u001b[0m\u001b[0m\n\u001b[1;32m    653\u001b[0m             \u001b[0;32mraise\u001b[0m \u001b[0mTimeoutError\u001b[0m\u001b[0;34m\u001b[0m\u001b[0;34m\u001b[0m\u001b[0m\n",
      "\u001b[0;32m/opt/conda/lib/python3.7/multiprocessing/pool.py\u001b[0m in \u001b[0;36mwait\u001b[0;34m(self, timeout)\u001b[0m\n\u001b[1;32m    646\u001b[0m \u001b[0;34m\u001b[0m\u001b[0m\n\u001b[1;32m    647\u001b[0m     \u001b[0;32mdef\u001b[0m \u001b[0mwait\u001b[0m\u001b[0;34m(\u001b[0m\u001b[0mself\u001b[0m\u001b[0;34m,\u001b[0m \u001b[0mtimeout\u001b[0m\u001b[0;34m=\u001b[0m\u001b[0;32mNone\u001b[0m\u001b[0;34m)\u001b[0m\u001b[0;34m:\u001b[0m\u001b[0;34m\u001b[0m\u001b[0;34m\u001b[0m\u001b[0m\n\u001b[0;32m--> 648\u001b[0;31m         \u001b[0mself\u001b[0m\u001b[0;34m.\u001b[0m\u001b[0m_event\u001b[0m\u001b[0;34m.\u001b[0m\u001b[0mwait\u001b[0m\u001b[0;34m(\u001b[0m\u001b[0mtimeout\u001b[0m\u001b[0;34m)\u001b[0m\u001b[0;34m\u001b[0m\u001b[0;34m\u001b[0m\u001b[0m\n\u001b[0m\u001b[1;32m    649\u001b[0m \u001b[0;34m\u001b[0m\u001b[0m\n\u001b[1;32m    650\u001b[0m     \u001b[0;32mdef\u001b[0m \u001b[0mget\u001b[0m\u001b[0;34m(\u001b[0m\u001b[0mself\u001b[0m\u001b[0;34m,\u001b[0m \u001b[0mtimeout\u001b[0m\u001b[0;34m=\u001b[0m\u001b[0;32mNone\u001b[0m\u001b[0;34m)\u001b[0m\u001b[0;34m:\u001b[0m\u001b[0;34m\u001b[0m\u001b[0;34m\u001b[0m\u001b[0m\n",
      "\u001b[0;32m/opt/conda/lib/python3.7/threading.py\u001b[0m in \u001b[0;36mwait\u001b[0;34m(self, timeout)\u001b[0m\n\u001b[1;32m    550\u001b[0m             \u001b[0msignaled\u001b[0m \u001b[0;34m=\u001b[0m \u001b[0mself\u001b[0m\u001b[0;34m.\u001b[0m\u001b[0m_flag\u001b[0m\u001b[0;34m\u001b[0m\u001b[0;34m\u001b[0m\u001b[0m\n\u001b[1;32m    551\u001b[0m             \u001b[0;32mif\u001b[0m \u001b[0;32mnot\u001b[0m \u001b[0msignaled\u001b[0m\u001b[0;34m:\u001b[0m\u001b[0;34m\u001b[0m\u001b[0;34m\u001b[0m\u001b[0m\n\u001b[0;32m--> 552\u001b[0;31m                 \u001b[0msignaled\u001b[0m \u001b[0;34m=\u001b[0m \u001b[0mself\u001b[0m\u001b[0;34m.\u001b[0m\u001b[0m_cond\u001b[0m\u001b[0;34m.\u001b[0m\u001b[0mwait\u001b[0m\u001b[0;34m(\u001b[0m\u001b[0mtimeout\u001b[0m\u001b[0;34m)\u001b[0m\u001b[0;34m\u001b[0m\u001b[0;34m\u001b[0m\u001b[0m\n\u001b[0m\u001b[1;32m    553\u001b[0m             \u001b[0;32mreturn\u001b[0m \u001b[0msignaled\u001b[0m\u001b[0;34m\u001b[0m\u001b[0;34m\u001b[0m\u001b[0m\n\u001b[1;32m    554\u001b[0m \u001b[0;34m\u001b[0m\u001b[0m\n",
      "\u001b[0;32m/opt/conda/lib/python3.7/threading.py\u001b[0m in \u001b[0;36mwait\u001b[0;34m(self, timeout)\u001b[0m\n\u001b[1;32m    294\u001b[0m         \u001b[0;32mtry\u001b[0m\u001b[0;34m:\u001b[0m    \u001b[0;31m# restore state no matter what (e.g., KeyboardInterrupt)\u001b[0m\u001b[0;34m\u001b[0m\u001b[0;34m\u001b[0m\u001b[0m\n\u001b[1;32m    295\u001b[0m             \u001b[0;32mif\u001b[0m \u001b[0mtimeout\u001b[0m \u001b[0;32mis\u001b[0m \u001b[0;32mNone\u001b[0m\u001b[0;34m:\u001b[0m\u001b[0;34m\u001b[0m\u001b[0;34m\u001b[0m\u001b[0m\n\u001b[0;32m--> 296\u001b[0;31m                 \u001b[0mwaiter\u001b[0m\u001b[0;34m.\u001b[0m\u001b[0macquire\u001b[0m\u001b[0;34m(\u001b[0m\u001b[0;34m)\u001b[0m\u001b[0;34m\u001b[0m\u001b[0;34m\u001b[0m\u001b[0m\n\u001b[0m\u001b[1;32m    297\u001b[0m                 \u001b[0mgotit\u001b[0m \u001b[0;34m=\u001b[0m \u001b[0;32mTrue\u001b[0m\u001b[0;34m\u001b[0m\u001b[0;34m\u001b[0m\u001b[0m\n\u001b[1;32m    298\u001b[0m             \u001b[0;32melse\u001b[0m\u001b[0;34m:\u001b[0m\u001b[0;34m\u001b[0m\u001b[0;34m\u001b[0m\u001b[0m\n",
      "\u001b[0;31mKeyboardInterrupt\u001b[0m: "
     ]
    },
    {
     "name": "stderr",
     "output_type": "stream",
     "text": [
      "  File \"/opt/conda/lib/python3.7/multiprocessing/process.py\", line 99, in run\n",
      "    self._target(*self._args, **self._kwargs)\n",
      "  File \"/opt/conda/lib/python3.7/multiprocessing/pool.py\", line 110, in worker\n",
      "    task = get()\n",
      "  File \"/opt/conda/lib/python3.7/multiprocessing/queues.py\", line 351, in get\n",
      "    with self._rlock:\n",
      "  File \"/opt/conda/lib/python3.7/multiprocessing/pool.py\", line 110, in worker\n",
      "    task = get()\n",
      "  File \"<ipython-input-52-6eff2bbd9720>\", line 8, in wrap_kernel_1\n",
      "    return spectrum_combination(x1,x2,[4,6,10])\n",
      "  File \"/opt/conda/lib/python3.7/multiprocessing/queues.py\", line 351, in get\n",
      "    with self._rlock:\n",
      "  File \"<ipython-input-52-6eff2bbd9720>\", line 2, in spectrum_combination\n",
      "    return np.sum((1/len(k_list))*np.array([spectrum_kernel(x1,x2,k) for k in k_list]))\n",
      "  File \"/opt/conda/lib/python3.7/multiprocessing/queues.py\", line 351, in get\n",
      "    with self._rlock:\n",
      "  File \"<ipython-input-52-6eff2bbd9720>\", line 2, in <listcomp>\n",
      "    return np.sum((1/len(k_list))*np.array([spectrum_kernel(x1,x2,k) for k in k_list]))\n",
      "  File \"/opt/conda/lib/python3.7/multiprocessing/synchronize.py\", line 95, in __enter__\n",
      "    return self._semlock.__enter__()\n",
      "  File \"/opt/conda/lib/python3.7/multiprocessing/synchronize.py\", line 95, in __enter__\n",
      "    return self._semlock.__enter__()\n",
      "  File \"<ipython-input-21-8b52f4b3dad5>\", line 14, in spectrum_kernel\n",
      "    k_mer_1 = x1[i:k+i]\n",
      "KeyboardInterrupt\n",
      "KeyboardInterrupt\n",
      "  File \"/opt/conda/lib/python3.7/multiprocessing/synchronize.py\", line 95, in __enter__\n",
      "    return self._semlock.__enter__()\n",
      "KeyboardInterrupt\n",
      "KeyboardInterrupt\n"
     ]
    }
   ],
   "source": [
    "train_gram_1,estim_1=fit_KRR(X_tr_1,Y_tr_1,wrap_kernel_1,lam_1)"
   ]
  },
  {
   "cell_type": "code",
   "execution_count": null,
   "metadata": {},
   "outputs": [],
   "source": [
    "test_gram_1,predic_1=predict_KRR(X_tr_1,X_ts_1,wrap_kernel_1,estim_1)"
   ]
  },
  {
   "cell_type": "code",
   "execution_count": null,
   "metadata": {},
   "outputs": [],
   "source": [
    "evaluate(Y_ts_1,predic_1)"
   ]
  },
  {
   "cell_type": "code",
   "execution_count": 89,
   "metadata": {},
   "outputs": [],
   "source": [
    "train_gram_2,estim_2=fit_KRR(X_tr_2,Y_tr_2,wrap_kernel_2,lam_2)"
   ]
  },
  {
   "cell_type": "code",
   "execution_count": 90,
   "metadata": {},
   "outputs": [],
   "source": [
    "test_gram_2,predic_2=predict_KRR(X_tr_2,X_ts_2,wrap_kernel_2,estim_2)"
   ]
  },
  {
   "cell_type": "code",
   "execution_count": 108,
   "metadata": {},
   "outputs": [
    {
     "data": {
      "text/plain": [
       "0.772"
      ]
     },
     "execution_count": 108,
     "metadata": {},
     "output_type": "execute_result"
    }
   ],
   "source": [
    "evaluate(Y_ts_1,predic_1)"
   ]
  }
 ],
 "metadata": {
  "kernelspec": {
   "display_name": "Python 3",
   "language": "python",
   "name": "python3"
  },
  "language_info": {
   "codemirror_mode": {
    "name": "ipython",
    "version": 3
   },
   "file_extension": ".py",
   "mimetype": "text/x-python",
   "name": "python",
   "nbconvert_exporter": "python",
   "pygments_lexer": "ipython3",
   "version": "3.8.2"
  }
 },
 "nbformat": 4,
 "nbformat_minor": 4
}
